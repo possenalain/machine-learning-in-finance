{
 "cells": [
  {
   "cell_type": "code",
   "execution_count": 1,
   "metadata": {},
   "outputs": [],
   "source": [
    "import pandas as pd\n",
    "import numpy as np\n",
    "import seaborn as sns\n",
    "from collections import defaultdict\n",
    "#import re\n",
    "\n",
    "import warnings\n",
    "warnings.filterwarnings(\"ignore\")\n",
    "\n",
    "import matplotlib.pyplot as plt\n",
    "import collections\n",
    "\n",
    "\n",
    "from sklearn.metrics import precision_recall_curve\n",
    "from sklearn.metrics import accuracy_score, balanced_accuracy_score, f1_score, precision_score, recall_score, roc_auc_score, average_precision_score\n",
    "from sklearn.metrics import confusion_matrix\n",
    "from sklearn.metrics import classification_report\n",
    "\n",
    "from pathlib import Path\n",
    "import time\n",
    "\n",
    "sns.set()"
   ]
  },
  {
   "cell_type": "markdown",
   "metadata": {},
   "source": [
    "**Dataset**\n",
    "\n",
    "- [1-data/creditcard.csv](./data/creditcard.csv) : \n",
    "\n",
    "\n",
    "The dataset contains transactions made by credit cards in September 2013 by European cardholders.\n",
    "This dataset presents transactions that occurred in two days, where we have 492 frauds out of 284,807 transactions. The dataset is highly unbalanced, the positive class (frauds) account for 0.172% of all transactions.\n",
    "\n",
    "It contains only numerical input variables which are the result of a PCA transformation. Unfortunately, due to confidentiality issues, we cannot provide the original features and more background information about the data. Features V1, V2, … V28 are the principal components obtained with PCA, the only features which have not been transformed with PCA are 'Time' and 'Amount'. Feature 'Time' contains the seconds elapsed between each transaction and the first transaction in the dataset. The feature 'Amount' is the transaction Amount, this feature can be used for example-dependant cost-sensitive learning. Feature 'Class' is the response variable and it takes value 1 in case of fraud and 0 otherwise. ( more : https://www.kaggle.com/datasets/mlg-ulb/creditcardfraud)"
   ]
  },
  {
   "cell_type": "code",
   "execution_count": 2,
   "metadata": {},
   "outputs": [],
   "source": [
    "data_dir = Path('data')\n",
    "work_with = \"creditcard.csv\"\n",
    "\n",
    "df = pd.read_csv(data_dir / work_with)\n",
    "#Drop missing values\n",
    "df.dropna(axis=0, how='any', subset=None, inplace=True)\n",
    "\n",
    "# df.describe()\n",
    "#df.info()\n"
   ]
  },
  {
   "cell_type": "code",
   "execution_count": 3,
   "metadata": {},
   "outputs": [
    {
     "data": {
      "text/html": [
       "<div>\n",
       "<style scoped>\n",
       "    .dataframe tbody tr th:only-of-type {\n",
       "        vertical-align: middle;\n",
       "    }\n",
       "\n",
       "    .dataframe tbody tr th {\n",
       "        vertical-align: top;\n",
       "    }\n",
       "\n",
       "    .dataframe thead th {\n",
       "        text-align: right;\n",
       "    }\n",
       "</style>\n",
       "<table border=\"1\" class=\"dataframe\">\n",
       "  <thead>\n",
       "    <tr style=\"text-align: right;\">\n",
       "      <th></th>\n",
       "      <th>Time</th>\n",
       "      <th>V1</th>\n",
       "      <th>V2</th>\n",
       "      <th>V3</th>\n",
       "      <th>V4</th>\n",
       "      <th>V5</th>\n",
       "      <th>V6</th>\n",
       "      <th>V7</th>\n",
       "      <th>V8</th>\n",
       "      <th>V9</th>\n",
       "      <th>...</th>\n",
       "      <th>V21</th>\n",
       "      <th>V22</th>\n",
       "      <th>V23</th>\n",
       "      <th>V24</th>\n",
       "      <th>V25</th>\n",
       "      <th>V26</th>\n",
       "      <th>V27</th>\n",
       "      <th>V28</th>\n",
       "      <th>Amount</th>\n",
       "      <th>Class</th>\n",
       "    </tr>\n",
       "  </thead>\n",
       "  <tbody>\n",
       "    <tr>\n",
       "      <th>0</th>\n",
       "      <td>0.0</td>\n",
       "      <td>-1.359807</td>\n",
       "      <td>-0.072781</td>\n",
       "      <td>2.536347</td>\n",
       "      <td>1.378155</td>\n",
       "      <td>-0.338321</td>\n",
       "      <td>0.462388</td>\n",
       "      <td>0.239599</td>\n",
       "      <td>0.098698</td>\n",
       "      <td>0.363787</td>\n",
       "      <td>...</td>\n",
       "      <td>-0.018307</td>\n",
       "      <td>0.277838</td>\n",
       "      <td>-0.110474</td>\n",
       "      <td>0.066928</td>\n",
       "      <td>0.128539</td>\n",
       "      <td>-0.189115</td>\n",
       "      <td>0.133558</td>\n",
       "      <td>-0.021053</td>\n",
       "      <td>149.62</td>\n",
       "      <td>0</td>\n",
       "    </tr>\n",
       "    <tr>\n",
       "      <th>1</th>\n",
       "      <td>0.0</td>\n",
       "      <td>1.191857</td>\n",
       "      <td>0.266151</td>\n",
       "      <td>0.166480</td>\n",
       "      <td>0.448154</td>\n",
       "      <td>0.060018</td>\n",
       "      <td>-0.082361</td>\n",
       "      <td>-0.078803</td>\n",
       "      <td>0.085102</td>\n",
       "      <td>-0.255425</td>\n",
       "      <td>...</td>\n",
       "      <td>-0.225775</td>\n",
       "      <td>-0.638672</td>\n",
       "      <td>0.101288</td>\n",
       "      <td>-0.339846</td>\n",
       "      <td>0.167170</td>\n",
       "      <td>0.125895</td>\n",
       "      <td>-0.008983</td>\n",
       "      <td>0.014724</td>\n",
       "      <td>2.69</td>\n",
       "      <td>0</td>\n",
       "    </tr>\n",
       "    <tr>\n",
       "      <th>2</th>\n",
       "      <td>1.0</td>\n",
       "      <td>-1.358354</td>\n",
       "      <td>-1.340163</td>\n",
       "      <td>1.773209</td>\n",
       "      <td>0.379780</td>\n",
       "      <td>-0.503198</td>\n",
       "      <td>1.800499</td>\n",
       "      <td>0.791461</td>\n",
       "      <td>0.247676</td>\n",
       "      <td>-1.514654</td>\n",
       "      <td>...</td>\n",
       "      <td>0.247998</td>\n",
       "      <td>0.771679</td>\n",
       "      <td>0.909412</td>\n",
       "      <td>-0.689281</td>\n",
       "      <td>-0.327642</td>\n",
       "      <td>-0.139097</td>\n",
       "      <td>-0.055353</td>\n",
       "      <td>-0.059752</td>\n",
       "      <td>378.66</td>\n",
       "      <td>0</td>\n",
       "    </tr>\n",
       "  </tbody>\n",
       "</table>\n",
       "<p>3 rows × 31 columns</p>\n",
       "</div>"
      ],
      "text/plain": [
       "   Time        V1        V2        V3        V4        V5        V6        V7  \\\n",
       "0   0.0 -1.359807 -0.072781  2.536347  1.378155 -0.338321  0.462388  0.239599   \n",
       "1   0.0  1.191857  0.266151  0.166480  0.448154  0.060018 -0.082361 -0.078803   \n",
       "2   1.0 -1.358354 -1.340163  1.773209  0.379780 -0.503198  1.800499  0.791461   \n",
       "\n",
       "         V8        V9  ...       V21       V22       V23       V24       V25  \\\n",
       "0  0.098698  0.363787  ... -0.018307  0.277838 -0.110474  0.066928  0.128539   \n",
       "1  0.085102 -0.255425  ... -0.225775 -0.638672  0.101288 -0.339846  0.167170   \n",
       "2  0.247676 -1.514654  ...  0.247998  0.771679  0.909412 -0.689281 -0.327642   \n",
       "\n",
       "        V26       V27       V28  Amount  Class  \n",
       "0 -0.189115  0.133558 -0.021053  149.62      0  \n",
       "1  0.125895 -0.008983  0.014724    2.69      0  \n",
       "2 -0.139097 -0.055353 -0.059752  378.66      0  \n",
       "\n",
       "[3 rows x 31 columns]"
      ]
     },
     "execution_count": 3,
     "metadata": {},
     "output_type": "execute_result"
    }
   ],
   "source": [
    "df.head(3)"
   ]
  },
  {
   "cell_type": "code",
   "execution_count": 4,
   "metadata": {},
   "outputs": [
    {
     "data": {
      "text/plain": [
       "Class\n",
       "0    284315\n",
       "1       492\n",
       "Name: count, dtype: int64"
      ]
     },
     "metadata": {},
     "output_type": "display_data"
    }
   ],
   "source": [
    "# data distribution \n",
    "# 0 - normal, 1 - fraud\n",
    "display(df[\"Class\"].value_counts())"
   ]
  },
  {
   "cell_type": "code",
   "execution_count": 5,
   "metadata": {},
   "outputs": [
    {
     "data": {
      "text/plain": [
       "((284807, 30), (284807,))"
      ]
     },
     "execution_count": 5,
     "metadata": {},
     "output_type": "execute_result"
    }
   ],
   "source": [
    "X = df.drop(['Class'], axis=1)\n",
    "y = df['Class']\n",
    "\n",
    "# scaling the data\n",
    "from sklearn.preprocessing import StandardScaler\n",
    "scaler = StandardScaler()\n",
    "X[X.columns] = scaler.fit_transform(X)\n",
    "\n",
    "X.shape, y.shape"
   ]
  },
  {
   "cell_type": "code",
   "execution_count": 6,
   "metadata": {},
   "outputs": [
    {
     "name": "stdout",
     "output_type": "stream",
     "text": [
      "Train: \n",
      " Class\n",
      "0    284315\n",
      "1       492\n",
      "Name: count, dtype: int64\n",
      "Test: \n",
      " Class\n",
      "0    284315\n",
      "1       492\n",
      "Name: count, dtype: int64 \n"
     ]
    }
   ],
   "source": [
    "# split the data into train and test\n",
    "from sklearn.model_selection import train_test_split\n",
    "# X_train, X_test, y_train, y_test = train_test_split(X, y,\n",
    "#                                                     stratify=y,\n",
    "#                                                     test_size=0.2,\n",
    "#                                                     random_state=42)\n",
    "\n",
    "X_train, X_test, y_train, y_test = X, X, y, y\n",
    "\n",
    "# count fraud in train and test \n",
    "print(f\"Train: \\n {y_train.value_counts()}\")\n",
    "print(f\"Test: \\n {y_test.value_counts()} \")"
   ]
  },
  {
   "cell_type": "code",
   "execution_count": 7,
   "metadata": {},
   "outputs": [],
   "source": [
    "''' Helper functions '''\n",
    "\n",
    "def get_scores(y_true, y_pred):\n",
    "    scores = {\n",
    "        'accuracy': round(accuracy_score(y_true, y_pred),2),\n",
    "        'balanced': round(balanced_accuracy_score(y_true, y_pred),2),\n",
    "        'F1': round(f1_score(y_true, y_pred),2),\n",
    "        'precision': round(precision_score(y_true, y_pred),2),\n",
    "        'recall': round(recall_score(y_true, y_pred),2),\n",
    "        'roc_auc': round(roc_auc_score(y_true, y_pred),2),\n",
    "        'pr_auc': round(average_precision_score(y_true, y_pred),2)\n",
    "    }\n",
    "    \n",
    "    return scores"
   ]
  },
  {
   "cell_type": "code",
   "execution_count": 8,
   "metadata": {},
   "outputs": [],
   "source": [
    "combined_scores = []"
   ]
  },
  {
   "cell_type": "markdown",
   "metadata": {},
   "source": [
    "isolation forest"
   ]
  },
  {
   "cell_type": "code",
   "execution_count": 9,
   "metadata": {},
   "outputs": [],
   "source": [
    "# isolation forest\n",
    "\n",
    "from pyod.models.iforest import IForest\n",
    "\n",
    "start_time = time.time()\n",
    "\n",
    "clf_name = 'IForest'\n",
    "\n",
    "clf = IForest()\n",
    "clf.fit(X_train)\n",
    "\n",
    "duration = round(time.time() - start_time,2)\n",
    "\n",
    "# get the prediction labels and outlier scores of the training data\n",
    "y_train_pred = clf.labels_  # binary labels (0: inliers, 1: outliers)\n",
    "y_train_scores = clf.decision_scores_  # raw outlier scores\n",
    "\n",
    "# get the prediction on the test data\n",
    "y_test_pred = clf.predict(X_test)  # outlier labels (0 or 1)\n",
    "y_test_scores = clf.decision_function(X_test)  # outlier scores\n",
    "\n",
    "scores = {\"clf_name\":clf_name, **get_scores(y_test, y_test_pred), \"duration\": duration}\n",
    "combined_scores.append(scores)"
   ]
  },
  {
   "cell_type": "markdown",
   "metadata": {},
   "source": [
    "Local Outlier Factor"
   ]
  },
  {
   "cell_type": "code",
   "execution_count": 10,
   "metadata": {},
   "outputs": [],
   "source": [
    "#  Local Outlier Factor\n",
    "\n",
    "from pyod.models.lof import LOF\n",
    "\n",
    "start_time = time.time()\n",
    "\n",
    "clf_name = 'LOF'\n",
    "clf = LOF()\n",
    "clf.fit(X_train)\n",
    "duration = round(time.time() - start_time,2)\n",
    "\n",
    "# get the prediction labels\n",
    "y_train_pred = clf.labels_  \n",
    "y_test_pred = clf.predict(X_test)\n",
    "\n",
    "\n",
    "scores = {\"clf_name\":clf_name, **get_scores(y_test, y_test_pred), \"duration\": duration}\n",
    "combined_scores.append(scores)\n",
    "# scores"
   ]
  },
  {
   "cell_type": "markdown",
   "metadata": {},
   "source": [
    "ECOD"
   ]
  },
  {
   "cell_type": "code",
   "execution_count": 11,
   "metadata": {},
   "outputs": [],
   "source": [
    "#  ECOD\n",
    "\n",
    "from pyod.models.ecod import ECOD\n",
    "start_time = time.time()\n",
    "\n",
    "\n",
    "clf_name = 'ECOD'\n",
    "clf = ECOD()\n",
    "clf.fit(X_train)\n",
    "duration = round(time.time() - start_time,2)\n",
    "\n",
    "# get the prediction labels\n",
    "y_train_pred = clf.labels_  \n",
    "y_test_pred = clf.predict(X_test)\n",
    "\n",
    "\n",
    "scores = {\"clf_name\":clf_name, **get_scores(y_test, y_test_pred), \"duration\": duration}\n",
    "combined_scores.append(scores)"
   ]
  },
  {
   "cell_type": "markdown",
   "metadata": {},
   "source": [
    "Local Correlation Integral"
   ]
  },
  {
   "cell_type": "code",
   "execution_count": 12,
   "metadata": {},
   "outputs": [],
   "source": [
    "# #  Local Correlation Integral (LOCI)\n",
    "\n",
    "# from pyod.models.loci import LOCI\n",
    "# start_time = time.time()\n",
    "\n",
    "\n",
    "# clf_name = 'LOCI'\n",
    "# clf = LOCI()\n",
    "# clf.fit(X_train)\n",
    "# duration = round(time.time() - start_time,2)\n",
    "\n",
    "# # get the prediction labels\n",
    "# y_train_pred = clf.labels_  \n",
    "# y_test_pred = clf.predict(X_test)\n",
    "\n",
    "\n",
    "# scores = {\"clf_name\":clf_name, **get_scores(y_test, y_test_pred), \"duration\": duration}\n",
    "# combined_scores.append(scores)"
   ]
  },
  {
   "cell_type": "markdown",
   "metadata": {},
   "source": [
    "LSCP: Locally Selective Combination of Parallel Outlier Ensembles"
   ]
  },
  {
   "cell_type": "code",
   "execution_count": 13,
   "metadata": {},
   "outputs": [],
   "source": [
    "# #  LSCP\n",
    "\n",
    "# from pyod.models.lscp import LSCP\n",
    "# from pyod.models.lof import LOF\n",
    "# start_time = time.time()\n",
    "\n",
    "\n",
    "# clf_name = 'LSCP'\n",
    "# detector_list = [LOF(), LOF()]\n",
    "# clf = LSCP(detector_list)\n",
    "# clf.fit(X_train)\n",
    "# duration = round(time.time() - start_time,2)\n",
    "\n",
    "# # get the prediction labels\n",
    "# y_train_pred = clf.labels_  \n",
    "# y_test_pred = clf.predict(X_test)\n",
    "\n",
    "\n",
    "# scores = {\"clf_name\":clf_name, **get_scores(y_test, y_test_pred), \"duration\": duration}\n",
    "# combined_scores.append(scores)"
   ]
  },
  {
   "cell_type": "markdown",
   "metadata": {},
   "source": [
    "COPOD: Copula-Based Outlier Detection"
   ]
  },
  {
   "cell_type": "code",
   "execution_count": 14,
   "metadata": {},
   "outputs": [],
   "source": [
    "#  COPOD: Copula-Based Outlier Detection\n",
    "\n",
    "from pyod.models.copod import COPOD\n",
    "start_time = time.time()\n",
    "\n",
    "\n",
    "clf_name = 'COPOD'\n",
    "clf = COPOD()\n",
    "clf.fit(X_train)\n",
    "duration = round(time.time() - start_time,2)\n",
    "\n",
    "# get the prediction labels\n",
    "y_train_pred = clf.labels_  \n",
    "y_test_pred = clf.predict(X_test)\n",
    "\n",
    "\n",
    "scores = {\"clf_name\":clf_name, **get_scores(y_test, y_test_pred), \"duration\": duration}\n",
    "combined_scores.append(scores)"
   ]
  },
  {
   "cell_type": "markdown",
   "metadata": {},
   "source": [
    "ABOD: Angle-Based Outlier Detection"
   ]
  },
  {
   "cell_type": "code",
   "execution_count": 15,
   "metadata": {},
   "outputs": [],
   "source": [
    "#  ABOD: Angle-Based Outlier Detection\n",
    "\n",
    "from pyod.models.abod import ABOD\n",
    "start_time = time.time()\n",
    "\n",
    "clf_name = 'ABOD'\n",
    "clf = ABOD()\n",
    "clf.fit(X_train)\n",
    "duration = round(time.time() - start_time,2)\n",
    "\n",
    "# get the prediction labels\n",
    "y_train_pred = clf.labels_  \n",
    "y_test_pred = clf.predict(X_test)\n",
    "\n",
    "\n",
    "scores = {\"clf_name\":clf_name, **get_scores(y_test, y_test_pred), \"duration\": duration}\n",
    "combined_scores.append(scores)"
   ]
  },
  {
   "cell_type": "markdown",
   "metadata": {},
   "source": [
    "QMCD: Quasi-Monte Carlo Discrepancy outlier detection"
   ]
  },
  {
   "cell_type": "code",
   "execution_count": 16,
   "metadata": {},
   "outputs": [],
   "source": [
    "# QMCD: Quasi-Monte Carlo Discrepancy outlier detection\n",
    "\n",
    "from pyod.models.qmcd import QMCD\n",
    "start_time = time.time()\n",
    "\n",
    "clf_name = 'QMCD'\n",
    "clf = QMCD()\n",
    "clf.fit(X_train)\n",
    "duration = round(time.time() - start_time,2)\n",
    "\n",
    "# get the prediction labels\n",
    "y_train_pred = clf.labels_  \n",
    "y_test_pred = clf.predict(X_test)\n",
    "\n",
    "\n",
    "scores = {\"clf_name\":clf_name, **get_scores(y_test, y_test_pred), \"duration\": duration}\n",
    "combined_scores.append(scores)\n"
   ]
  },
  {
   "cell_type": "markdown",
   "metadata": {},
   "source": [
    "Rapid distance-based outlier detection via sampling"
   ]
  },
  {
   "cell_type": "code",
   "execution_count": 17,
   "metadata": {},
   "outputs": [],
   "source": [
    "# MAD - Rapid distance-based outlier detection via sampling\n",
    "\n",
    "from pyod.models.sampling import Sampling\n",
    "start_time = time.time()\n",
    "\n",
    "clf_name = 'Rapid distance-based'\n",
    "clf = Sampling()\n",
    "clf.fit(X_train)\n",
    "duration = round(time.time() - start_time,2)\n",
    "\n",
    "# get the prediction labels\n",
    "y_train_pred = clf.labels_  \n",
    "y_test_pred = clf.predict(X_test)\n",
    "\n",
    "\n",
    "scores = {\"clf_name\":clf_name, **get_scores(y_test, y_test_pred), \"duration\": duration}\n",
    "combined_scores.append(scores)\n",
    "\n"
   ]
  },
  {
   "cell_type": "markdown",
   "metadata": {},
   "source": [
    "## Book Keeping"
   ]
  },
  {
   "cell_type": "code",
   "execution_count": 18,
   "metadata": {},
   "outputs": [],
   "source": [
    "# save the results\n",
    "save_dir = Path('results')\n",
    "save_dir.mkdir(exist_ok=True)\n",
    "save_as = save_dir / f\"1-{Path(work_with).stem}.csv\"\n",
    "\n",
    "scores_df = pd.DataFrame(combined_scores)\n",
    "scores_df.to_csv(save_as, index=False)\n"
   ]
  },
  {
   "cell_type": "code",
   "execution_count": 19,
   "metadata": {},
   "outputs": [
    {
     "data": {
      "text/html": [
       "<div>\n",
       "<style scoped>\n",
       "    .dataframe tbody tr th:only-of-type {\n",
       "        vertical-align: middle;\n",
       "    }\n",
       "\n",
       "    .dataframe tbody tr th {\n",
       "        vertical-align: top;\n",
       "    }\n",
       "\n",
       "    .dataframe thead th {\n",
       "        text-align: right;\n",
       "    }\n",
       "</style>\n",
       "<table border=\"1\" class=\"dataframe\">\n",
       "  <thead>\n",
       "    <tr style=\"text-align: right;\">\n",
       "      <th></th>\n",
       "      <th>clf_name</th>\n",
       "      <th>accuracy</th>\n",
       "      <th>balanced</th>\n",
       "      <th>F1</th>\n",
       "      <th>precision</th>\n",
       "      <th>recall</th>\n",
       "      <th>roc_auc</th>\n",
       "      <th>pr_auc</th>\n",
       "      <th>duration</th>\n",
       "    </tr>\n",
       "  </thead>\n",
       "  <tbody>\n",
       "    <tr>\n",
       "      <th>0</th>\n",
       "      <td>IForest</td>\n",
       "      <td>0.90</td>\n",
       "      <td>0.89</td>\n",
       "      <td>0.03</td>\n",
       "      <td>0.02</td>\n",
       "      <td>0.89</td>\n",
       "      <td>0.89</td>\n",
       "      <td>0.01</td>\n",
       "      <td>1.89</td>\n",
       "    </tr>\n",
       "    <tr>\n",
       "      <th>1</th>\n",
       "      <td>LOF</td>\n",
       "      <td>0.91</td>\n",
       "      <td>0.53</td>\n",
       "      <td>0.01</td>\n",
       "      <td>0.00</td>\n",
       "      <td>0.15</td>\n",
       "      <td>0.53</td>\n",
       "      <td>0.00</td>\n",
       "      <td>51.14</td>\n",
       "    </tr>\n",
       "    <tr>\n",
       "      <th>2</th>\n",
       "      <td>ECOD</td>\n",
       "      <td>0.90</td>\n",
       "      <td>0.89</td>\n",
       "      <td>0.03</td>\n",
       "      <td>0.02</td>\n",
       "      <td>0.88</td>\n",
       "      <td>0.89</td>\n",
       "      <td>0.01</td>\n",
       "      <td>2.96</td>\n",
       "    </tr>\n",
       "    <tr>\n",
       "      <th>3</th>\n",
       "      <td>COPOD</td>\n",
       "      <td>0.90</td>\n",
       "      <td>0.89</td>\n",
       "      <td>0.03</td>\n",
       "      <td>0.02</td>\n",
       "      <td>0.87</td>\n",
       "      <td>0.89</td>\n",
       "      <td>0.01</td>\n",
       "      <td>2.40</td>\n",
       "    </tr>\n",
       "    <tr>\n",
       "      <th>4</th>\n",
       "      <td>ABOD</td>\n",
       "      <td>1.00</td>\n",
       "      <td>0.50</td>\n",
       "      <td>0.00</td>\n",
       "      <td>0.00</td>\n",
       "      <td>0.00</td>\n",
       "      <td>0.50</td>\n",
       "      <td>0.00</td>\n",
       "      <td>66.30</td>\n",
       "    </tr>\n",
       "    <tr>\n",
       "      <th>5</th>\n",
       "      <td>QMCD</td>\n",
       "      <td>0.90</td>\n",
       "      <td>0.90</td>\n",
       "      <td>0.03</td>\n",
       "      <td>0.02</td>\n",
       "      <td>0.90</td>\n",
       "      <td>0.90</td>\n",
       "      <td>0.01</td>\n",
       "      <td>250.37</td>\n",
       "    </tr>\n",
       "    <tr>\n",
       "      <th>6</th>\n",
       "      <td>Rapid distance-based</td>\n",
       "      <td>0.90</td>\n",
       "      <td>0.90</td>\n",
       "      <td>0.03</td>\n",
       "      <td>0.02</td>\n",
       "      <td>0.90</td>\n",
       "      <td>0.90</td>\n",
       "      <td>0.01</td>\n",
       "      <td>0.21</td>\n",
       "    </tr>\n",
       "  </tbody>\n",
       "</table>\n",
       "</div>"
      ],
      "text/plain": [
       "               clf_name  accuracy  balanced    F1  precision  recall  roc_auc  \\\n",
       "0               IForest      0.90      0.89  0.03       0.02    0.89     0.89   \n",
       "1                   LOF      0.91      0.53  0.01       0.00    0.15     0.53   \n",
       "2                  ECOD      0.90      0.89  0.03       0.02    0.88     0.89   \n",
       "3                 COPOD      0.90      0.89  0.03       0.02    0.87     0.89   \n",
       "4                  ABOD      1.00      0.50  0.00       0.00    0.00     0.50   \n",
       "5                  QMCD      0.90      0.90  0.03       0.02    0.90     0.90   \n",
       "6  Rapid distance-based      0.90      0.90  0.03       0.02    0.90     0.90   \n",
       "\n",
       "   pr_auc  duration  \n",
       "0    0.01      1.89  \n",
       "1    0.00     51.14  \n",
       "2    0.01      2.96  \n",
       "3    0.01      2.40  \n",
       "4    0.00     66.30  \n",
       "5    0.01    250.37  \n",
       "6    0.01      0.21  "
      ]
     },
     "metadata": {},
     "output_type": "display_data"
    }
   ],
   "source": [
    "display(scores_df)"
   ]
  },
  {
   "cell_type": "markdown",
   "metadata": {},
   "source": [
    "``` markdown\n",
    "\n",
    "# methods used\n",
    "1. [Isolation Forest](https://cs.nju.edu.cn/zhouzh/zhouzh.files/publication/icdm08b.pdf)\n",
    "2. ...\n",
    "```"
   ]
  },
  {
   "cell_type": "markdown",
   "metadata": {},
   "source": []
  }
 ],
 "metadata": {
  "kernelspec": {
   "display_name": "outlierEnv",
   "language": "python",
   "name": "python3"
  },
  "language_info": {
   "codemirror_mode": {
    "name": "ipython",
    "version": 3
   },
   "file_extension": ".py",
   "mimetype": "text/x-python",
   "name": "python",
   "nbconvert_exporter": "python",
   "pygments_lexer": "ipython3",
   "version": "3.10.13"
  }
 },
 "nbformat": 4,
 "nbformat_minor": 2
}
