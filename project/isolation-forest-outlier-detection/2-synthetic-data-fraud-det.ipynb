{
 "cells": [
  {
   "cell_type": "code",
   "execution_count": 1,
   "metadata": {},
   "outputs": [],
   "source": [
    "import pandas as pd\n",
    "import numpy as np\n",
    "import seaborn as sns\n",
    "from collections import defaultdict\n",
    "#import re\n",
    "\n",
    "import warnings\n",
    "warnings.filterwarnings(\"ignore\")\n",
    "\n",
    "import matplotlib.pyplot as plt\n",
    "import collections\n",
    "\n",
    "\n",
    "from sklearn.metrics import precision_recall_curve\n",
    "from sklearn.metrics import accuracy_score, balanced_accuracy_score, f1_score, precision_score, recall_score, roc_auc_score, average_precision_score\n",
    "from sklearn.metrics import confusion_matrix\n",
    "from sklearn.metrics import classification_report\n",
    "\n",
    "from pathlib import Path\n",
    "import time\n",
    "\n",
    "sns.set()"
   ]
  },
  {
   "cell_type": "markdown",
   "metadata": {},
   "source": [
    "**Dataset**\n",
    "\n",
    "- [2-synthetic-fraud-detection](./data/CreditCardfraudTrain.csv) : ...\n",
    "\n",
    "describe the dataset\n",
    "\n",
    "( more : https://huggingface.co/datasets/vitaliy-sharandin/synthetic-fraud-detection)"
   ]
  },
  {
   "cell_type": "code",
   "execution_count": 2,
   "metadata": {},
   "outputs": [
    {
     "data": {
      "text/plain": [
       "isFraud\n",
       "0    6354407\n",
       "1       8213\n",
       "Name: count, dtype: int64"
      ]
     },
     "metadata": {},
     "output_type": "display_data"
    },
    {
     "data": {
      "text/plain": [
       "(6362620, 10)"
      ]
     },
     "execution_count": 2,
     "metadata": {},
     "output_type": "execute_result"
    }
   ],
   "source": [
    "data_dir = Path('data')\n",
    "work_with = \"synthetic-fraud-detection.csv\"\n",
    "\n",
    "df = pd.read_csv(data_dir / work_with, encoding='utf-8')\n",
    "\n",
    "# data distribution \n",
    "# 0 - normal, 1 - fraud\n",
    "df.drop(['isFlaggedFraud'], inplace=True, axis=1)\n",
    "display(df[\"isFraud\"].value_counts())\n",
    "\n",
    "df.shape"
   ]
  },
  {
   "cell_type": "code",
   "execution_count": 3,
   "metadata": {},
   "outputs": [
    {
     "data": {
      "text/plain": [
       "(500000, 11)"
      ]
     },
     "execution_count": 3,
     "metadata": {},
     "output_type": "execute_result"
    }
   ],
   "source": [
    "data_dir = Path('data')\n",
    "work_with = \"synthetic-fraud-detection.csv\"\n",
    "\n",
    "df = pd.read_csv(data_dir / work_with, encoding='utf-8', nrows=500000)\n",
    "#Drop missing values\n",
    "df.dropna(axis=0, how='any', subset=None, inplace=True)\n",
    "\n",
    "# df.describe()\n",
    "#df.info()\n",
    "df.shape\n"
   ]
  },
  {
   "cell_type": "code",
   "execution_count": 4,
   "metadata": {},
   "outputs": [
    {
     "data": {
      "text/html": [
       "<div>\n",
       "<style scoped>\n",
       "    .dataframe tbody tr th:only-of-type {\n",
       "        vertical-align: middle;\n",
       "    }\n",
       "\n",
       "    .dataframe tbody tr th {\n",
       "        vertical-align: top;\n",
       "    }\n",
       "\n",
       "    .dataframe thead th {\n",
       "        text-align: right;\n",
       "    }\n",
       "</style>\n",
       "<table border=\"1\" class=\"dataframe\">\n",
       "  <thead>\n",
       "    <tr style=\"text-align: right;\">\n",
       "      <th></th>\n",
       "      <th>step</th>\n",
       "      <th>type</th>\n",
       "      <th>amount</th>\n",
       "      <th>nameOrig</th>\n",
       "      <th>oldbalanceOrg</th>\n",
       "      <th>newbalanceOrig</th>\n",
       "      <th>nameDest</th>\n",
       "      <th>oldbalanceDest</th>\n",
       "      <th>newbalanceDest</th>\n",
       "      <th>isFraud</th>\n",
       "      <th>isFlaggedFraud</th>\n",
       "    </tr>\n",
       "  </thead>\n",
       "  <tbody>\n",
       "    <tr>\n",
       "      <th>0</th>\n",
       "      <td>1</td>\n",
       "      <td>PAYMENT</td>\n",
       "      <td>9839.64</td>\n",
       "      <td>C1231006815</td>\n",
       "      <td>170136.0</td>\n",
       "      <td>160296.36</td>\n",
       "      <td>M1979787155</td>\n",
       "      <td>0.0</td>\n",
       "      <td>0.0</td>\n",
       "      <td>0</td>\n",
       "      <td>0</td>\n",
       "    </tr>\n",
       "    <tr>\n",
       "      <th>1</th>\n",
       "      <td>1</td>\n",
       "      <td>PAYMENT</td>\n",
       "      <td>1864.28</td>\n",
       "      <td>C1666544295</td>\n",
       "      <td>21249.0</td>\n",
       "      <td>19384.72</td>\n",
       "      <td>M2044282225</td>\n",
       "      <td>0.0</td>\n",
       "      <td>0.0</td>\n",
       "      <td>0</td>\n",
       "      <td>0</td>\n",
       "    </tr>\n",
       "    <tr>\n",
       "      <th>2</th>\n",
       "      <td>1</td>\n",
       "      <td>TRANSFER</td>\n",
       "      <td>181.00</td>\n",
       "      <td>C1305486145</td>\n",
       "      <td>181.0</td>\n",
       "      <td>0.00</td>\n",
       "      <td>C553264065</td>\n",
       "      <td>0.0</td>\n",
       "      <td>0.0</td>\n",
       "      <td>1</td>\n",
       "      <td>0</td>\n",
       "    </tr>\n",
       "  </tbody>\n",
       "</table>\n",
       "</div>"
      ],
      "text/plain": [
       "   step      type   amount     nameOrig  oldbalanceOrg  newbalanceOrig  \\\n",
       "0     1   PAYMENT  9839.64  C1231006815       170136.0       160296.36   \n",
       "1     1   PAYMENT  1864.28  C1666544295        21249.0        19384.72   \n",
       "2     1  TRANSFER   181.00  C1305486145          181.0            0.00   \n",
       "\n",
       "      nameDest  oldbalanceDest  newbalanceDest  isFraud  isFlaggedFraud  \n",
       "0  M1979787155             0.0             0.0        0               0  \n",
       "1  M2044282225             0.0             0.0        0               0  \n",
       "2   C553264065             0.0             0.0        1               0  "
      ]
     },
     "execution_count": 4,
     "metadata": {},
     "output_type": "execute_result"
    }
   ],
   "source": [
    "df.head(3)"
   ]
  },
  {
   "cell_type": "code",
   "execution_count": 5,
   "metadata": {},
   "outputs": [
    {
     "data": {
      "text/plain": [
       "isFraud\n",
       "0    499767\n",
       "1       233\n",
       "Name: count, dtype: int64"
      ]
     },
     "metadata": {},
     "output_type": "display_data"
    }
   ],
   "source": [
    "# data distribution \n",
    "# 0 - normal, 1 - fraud\n",
    "df.drop(['isFlaggedFraud'], inplace=True, axis=1)\n",
    "display(df[\"isFraud\"].value_counts())"
   ]
  },
  {
   "cell_type": "code",
   "execution_count": 6,
   "metadata": {},
   "outputs": [
    {
     "name": "stdout",
     "output_type": "stream",
     "text": [
      "uniques val count:\n",
      "type             5\n",
      "nameOrig    499953\n",
      "nameDest    214856\n",
      "dtype: int64\n"
     ]
    }
   ],
   "source": [
    "# handle categorical data\n",
    "cat_columns = df.select_dtypes(include=['object'], exclude=[\"number\"]).columns\n",
    "print(f\"uniques val count:\\n{df[[*cat_columns]].nunique()}\")"
   ]
  },
  {
   "cell_type": "code",
   "execution_count": 7,
   "metadata": {},
   "outputs": [
    {
     "data": {
      "text/html": [
       "<div>\n",
       "<style scoped>\n",
       "    .dataframe tbody tr th:only-of-type {\n",
       "        vertical-align: middle;\n",
       "    }\n",
       "\n",
       "    .dataframe tbody tr th {\n",
       "        vertical-align: top;\n",
       "    }\n",
       "\n",
       "    .dataframe thead th {\n",
       "        text-align: right;\n",
       "    }\n",
       "</style>\n",
       "<table border=\"1\" class=\"dataframe\">\n",
       "  <thead>\n",
       "    <tr style=\"text-align: right;\">\n",
       "      <th></th>\n",
       "      <th>step</th>\n",
       "      <th>amount</th>\n",
       "      <th>nameOrig</th>\n",
       "      <th>oldbalanceOrg</th>\n",
       "      <th>newbalanceOrig</th>\n",
       "      <th>nameDest</th>\n",
       "      <th>oldbalanceDest</th>\n",
       "      <th>newbalanceDest</th>\n",
       "      <th>isFraud</th>\n",
       "      <th>type_CASH_IN</th>\n",
       "      <th>type_CASH_OUT</th>\n",
       "      <th>type_DEBIT</th>\n",
       "      <th>type_PAYMENT</th>\n",
       "      <th>type_TRANSFER</th>\n",
       "    </tr>\n",
       "  </thead>\n",
       "  <tbody>\n",
       "    <tr>\n",
       "      <th>0</th>\n",
       "      <td>1</td>\n",
       "      <td>9839.64</td>\n",
       "      <td>C1231006815</td>\n",
       "      <td>170136.0</td>\n",
       "      <td>160296.36</td>\n",
       "      <td>M1979787155</td>\n",
       "      <td>0.0</td>\n",
       "      <td>0.0</td>\n",
       "      <td>0</td>\n",
       "      <td>0</td>\n",
       "      <td>0</td>\n",
       "      <td>0</td>\n",
       "      <td>1</td>\n",
       "      <td>0</td>\n",
       "    </tr>\n",
       "    <tr>\n",
       "      <th>1</th>\n",
       "      <td>1</td>\n",
       "      <td>1864.28</td>\n",
       "      <td>C1666544295</td>\n",
       "      <td>21249.0</td>\n",
       "      <td>19384.72</td>\n",
       "      <td>M2044282225</td>\n",
       "      <td>0.0</td>\n",
       "      <td>0.0</td>\n",
       "      <td>0</td>\n",
       "      <td>0</td>\n",
       "      <td>0</td>\n",
       "      <td>0</td>\n",
       "      <td>1</td>\n",
       "      <td>0</td>\n",
       "    </tr>\n",
       "    <tr>\n",
       "      <th>2</th>\n",
       "      <td>1</td>\n",
       "      <td>181.00</td>\n",
       "      <td>C1305486145</td>\n",
       "      <td>181.0</td>\n",
       "      <td>0.00</td>\n",
       "      <td>C553264065</td>\n",
       "      <td>0.0</td>\n",
       "      <td>0.0</td>\n",
       "      <td>1</td>\n",
       "      <td>0</td>\n",
       "      <td>0</td>\n",
       "      <td>0</td>\n",
       "      <td>0</td>\n",
       "      <td>1</td>\n",
       "    </tr>\n",
       "  </tbody>\n",
       "</table>\n",
       "</div>"
      ],
      "text/plain": [
       "   step   amount     nameOrig  oldbalanceOrg  newbalanceOrig     nameDest  \\\n",
       "0     1  9839.64  C1231006815       170136.0       160296.36  M1979787155   \n",
       "1     1  1864.28  C1666544295        21249.0        19384.72  M2044282225   \n",
       "2     1   181.00  C1305486145          181.0            0.00   C553264065   \n",
       "\n",
       "   oldbalanceDest  newbalanceDest  isFraud  type_CASH_IN  type_CASH_OUT  \\\n",
       "0             0.0             0.0        0             0              0   \n",
       "1             0.0             0.0        0             0              0   \n",
       "2             0.0             0.0        1             0              0   \n",
       "\n",
       "   type_DEBIT  type_PAYMENT  type_TRANSFER  \n",
       "0           0             1              0  \n",
       "1           0             1              0  \n",
       "2           0             0              1  "
      ]
     },
     "execution_count": 7,
     "metadata": {},
     "output_type": "execute_result"
    }
   ],
   "source": [
    "# encode transaction type with one hot encoder\n",
    "df = pd.get_dummies(df, columns=[\"type\"], prefix=[\"type\"],dtype=\"int8\")\n",
    "df.head(3)"
   ]
  },
  {
   "cell_type": "code",
   "execution_count": 8,
   "metadata": {},
   "outputs": [],
   "source": [
    "# # encode nameOrig and nameDest with label encoder\n",
    "from sklearn.preprocessing import LabelEncoder\n",
    "leNameOrig = LabelEncoder()\n",
    "df[\"nameOrig\"] = leNameOrig.fit_transform(df[\"nameOrig\"])"
   ]
  },
  {
   "cell_type": "code",
   "execution_count": 9,
   "metadata": {},
   "outputs": [],
   "source": [
    "# # encode nameOrig and nameDest with label encoder\n",
    "from sklearn.preprocessing import LabelEncoder\n",
    "leNameDest = LabelEncoder()\n",
    "df[\"nameDest\"] = leNameDest.fit_transform(df[\"nameDest\"])"
   ]
  },
  {
   "cell_type": "code",
   "execution_count": 10,
   "metadata": {},
   "outputs": [
    {
     "data": {
      "text/html": [
       "<div>\n",
       "<style scoped>\n",
       "    .dataframe tbody tr th:only-of-type {\n",
       "        vertical-align: middle;\n",
       "    }\n",
       "\n",
       "    .dataframe tbody tr th {\n",
       "        vertical-align: top;\n",
       "    }\n",
       "\n",
       "    .dataframe thead th {\n",
       "        text-align: right;\n",
       "    }\n",
       "</style>\n",
       "<table border=\"1\" class=\"dataframe\">\n",
       "  <thead>\n",
       "    <tr style=\"text-align: right;\">\n",
       "      <th></th>\n",
       "      <th>step</th>\n",
       "      <th>amount</th>\n",
       "      <th>nameOrig</th>\n",
       "      <th>oldbalanceOrg</th>\n",
       "      <th>newbalanceOrig</th>\n",
       "      <th>nameDest</th>\n",
       "      <th>oldbalanceDest</th>\n",
       "      <th>newbalanceDest</th>\n",
       "      <th>isFraud</th>\n",
       "      <th>type_CASH_IN</th>\n",
       "      <th>type_CASH_OUT</th>\n",
       "      <th>type_DEBIT</th>\n",
       "      <th>type_PAYMENT</th>\n",
       "      <th>type_TRANSFER</th>\n",
       "    </tr>\n",
       "  </thead>\n",
       "  <tbody>\n",
       "    <tr>\n",
       "      <th>0</th>\n",
       "      <td>1</td>\n",
       "      <td>9839.64</td>\n",
       "      <td>59872</td>\n",
       "      <td>170136.0</td>\n",
       "      <td>160296.36</td>\n",
       "      <td>134004</td>\n",
       "      <td>0.0</td>\n",
       "      <td>0.0</td>\n",
       "      <td>0</td>\n",
       "      <td>0</td>\n",
       "      <td>0</td>\n",
       "      <td>0</td>\n",
       "      <td>1</td>\n",
       "      <td>0</td>\n",
       "    </tr>\n",
       "    <tr>\n",
       "      <th>1</th>\n",
       "      <td>1</td>\n",
       "      <td>1864.28</td>\n",
       "      <td>172096</td>\n",
       "      <td>21249.0</td>\n",
       "      <td>19384.72</td>\n",
       "      <td>139396</td>\n",
       "      <td>0.0</td>\n",
       "      <td>0.0</td>\n",
       "      <td>0</td>\n",
       "      <td>0</td>\n",
       "      <td>0</td>\n",
       "      <td>0</td>\n",
       "      <td>1</td>\n",
       "      <td>0</td>\n",
       "    </tr>\n",
       "    <tr>\n",
       "      <th>2</th>\n",
       "      <td>1</td>\n",
       "      <td>181.00</td>\n",
       "      <td>78797</td>\n",
       "      <td>181.0</td>\n",
       "      <td>0.00</td>\n",
       "      <td>38975</td>\n",
       "      <td>0.0</td>\n",
       "      <td>0.0</td>\n",
       "      <td>1</td>\n",
       "      <td>0</td>\n",
       "      <td>0</td>\n",
       "      <td>0</td>\n",
       "      <td>0</td>\n",
       "      <td>1</td>\n",
       "    </tr>\n",
       "  </tbody>\n",
       "</table>\n",
       "</div>"
      ],
      "text/plain": [
       "   step   amount  nameOrig  oldbalanceOrg  newbalanceOrig  nameDest  \\\n",
       "0     1  9839.64     59872       170136.0       160296.36    134004   \n",
       "1     1  1864.28    172096        21249.0        19384.72    139396   \n",
       "2     1   181.00     78797          181.0            0.00     38975   \n",
       "\n",
       "   oldbalanceDest  newbalanceDest  isFraud  type_CASH_IN  type_CASH_OUT  \\\n",
       "0             0.0             0.0        0             0              0   \n",
       "1             0.0             0.0        0             0              0   \n",
       "2             0.0             0.0        1             0              0   \n",
       "\n",
       "   type_DEBIT  type_PAYMENT  type_TRANSFER  \n",
       "0           0             1              0  \n",
       "1           0             1              0  \n",
       "2           0             0              1  "
      ]
     },
     "execution_count": 10,
     "metadata": {},
     "output_type": "execute_result"
    }
   ],
   "source": [
    "df.head(3)"
   ]
  },
  {
   "cell_type": "code",
   "execution_count": 11,
   "metadata": {},
   "outputs": [],
   "source": [
    "target = \"isFraud\"\n",
    "\n",
    "X = df.drop([target], axis=1)\n",
    "y = df[target]\n"
   ]
  },
  {
   "cell_type": "code",
   "execution_count": 12,
   "metadata": {},
   "outputs": [
    {
     "data": {
      "text/plain": [
       "((500000, 13), (500000,))"
      ]
     },
     "execution_count": 12,
     "metadata": {},
     "output_type": "execute_result"
    }
   ],
   "source": [
    "X.shape, y.shape"
   ]
  },
  {
   "cell_type": "code",
   "execution_count": 13,
   "metadata": {},
   "outputs": [],
   "source": [
    "# # scaling the data\n",
    "# from sklearn.preprocessing import StandardScaler\n",
    "\n",
    "# scaler = StandardScaler()\n",
    "# X[X.columns] = scaler.fit_transform(X)\n",
    "\n",
    "# X.shape, y.shape"
   ]
  },
  {
   "cell_type": "code",
   "execution_count": 14,
   "metadata": {},
   "outputs": [
    {
     "name": "stdout",
     "output_type": "stream",
     "text": [
      "Train: \n",
      " isFraud\n",
      "0    499767\n",
      "1       233\n",
      "Name: count, dtype: int64\n",
      "Test: \n",
      " isFraud\n",
      "0    499767\n",
      "1       233\n",
      "Name: count, dtype: int64 \n"
     ]
    }
   ],
   "source": [
    "# split the data into train and test\n",
    "from sklearn.model_selection import train_test_split\n",
    "# X_train, X_test, y_train, y_test = train_test_split(X, y,\n",
    "#                                                     stratify=y,\n",
    "#                                                     test_size=0.2,\n",
    "#                                                     random_state=42)\n",
    "X_train, X_test, y_train, y_test = X, X, y, y\n",
    "# count fraud in train and test \n",
    "print(f\"Train: \\n {y_train.value_counts()}\")\n",
    "print(f\"Test: \\n {y_test.value_counts()} \")"
   ]
  },
  {
   "cell_type": "code",
   "execution_count": 15,
   "metadata": {},
   "outputs": [],
   "source": [
    "''' Helper functions '''\n",
    "\n",
    "def get_scores(y_true, y_pred):\n",
    "    scores = {\n",
    "        'accuracy': round(accuracy_score(y_true, y_pred),2),\n",
    "        'balanced': round(balanced_accuracy_score(y_true, y_pred),2),\n",
    "        'F1': round(f1_score(y_true, y_pred),2),\n",
    "        'precision': round(precision_score(y_true, y_pred),2),\n",
    "        'recall': round(recall_score(y_true, y_pred),2),\n",
    "        'roc_auc': round(roc_auc_score(y_true, y_pred),2),\n",
    "        'pr_auc': round(average_precision_score(y_true, y_pred),2)\n",
    "    }\n",
    "    \n",
    "    return scores"
   ]
  },
  {
   "cell_type": "code",
   "execution_count": 16,
   "metadata": {},
   "outputs": [],
   "source": [
    "combined_scores = []"
   ]
  },
  {
   "cell_type": "markdown",
   "metadata": {},
   "source": [
    "isolation forest"
   ]
  },
  {
   "cell_type": "code",
   "execution_count": 17,
   "metadata": {},
   "outputs": [],
   "source": [
    "# isolation forest\n",
    "\n",
    "from pyod.models.iforest import IForest\n",
    "\n",
    "start_time = time.time()\n",
    "\n",
    "clf_name = 'IForest'\n",
    "\n",
    "clf = IForest()\n",
    "clf.fit(X_train)\n",
    "\n",
    "duration = round(time.time() - start_time,2)\n",
    "\n",
    "# get the prediction labels and outlier scores of the training data\n",
    "y_train_pred = clf.labels_  # binary labels (0: inliers, 1: outliers)\n",
    "y_train_scores = clf.decision_scores_  # raw outlier scores\n",
    "\n",
    "# get the prediction on the test data\n",
    "y_test_pred = clf.predict(X_test)  # outlier labels (0 or 1)\n",
    "y_test_scores = clf.decision_function(X_test)  # outlier scores\n",
    "\n",
    "scores = {\"clf_name\":clf_name, **get_scores(y_test, y_test_pred), \"duration\": duration}\n",
    "combined_scores.append(scores)"
   ]
  },
  {
   "cell_type": "markdown",
   "metadata": {},
   "source": [
    "Local Outlier Factor"
   ]
  },
  {
   "cell_type": "code",
   "execution_count": 18,
   "metadata": {},
   "outputs": [
    {
     "data": {
      "text/plain": [
       "{'clf_name': 'LOF',\n",
       " 'accuracy': 0.91,\n",
       " 'balanced': 0.66,\n",
       " 'F1': 0.0,\n",
       " 'precision': 0.0,\n",
       " 'recall': 0.4,\n",
       " 'roc_auc': 0.66,\n",
       " 'pr_auc': 0.0,\n",
       " 'duration': 31.32}"
      ]
     },
     "execution_count": 18,
     "metadata": {},
     "output_type": "execute_result"
    }
   ],
   "source": [
    "#  Local Outlier Factor\n",
    "\n",
    "from pyod.models.lof import LOF\n",
    "\n",
    "start_time = time.time()\n",
    "\n",
    "clf_name = 'LOF'\n",
    "clf = LOF()\n",
    "clf.fit(X_train)\n",
    "duration = round(time.time() - start_time,2)\n",
    "\n",
    "# get the prediction labels\n",
    "y_train_pred = clf.labels_  \n",
    "y_test_pred = clf.predict(X_test)\n",
    "\n",
    "\n",
    "scores = {\"clf_name\":clf_name, **get_scores(y_test, y_test_pred), \"duration\": duration}\n",
    "combined_scores.append(scores)\n",
    "scores"
   ]
  },
  {
   "cell_type": "markdown",
   "metadata": {},
   "source": [
    "ECOD"
   ]
  },
  {
   "cell_type": "code",
   "execution_count": 19,
   "metadata": {},
   "outputs": [],
   "source": [
    "#  ECOD\n",
    "\n",
    "from pyod.models.ecod import ECOD\n",
    "start_time = time.time()\n",
    "\n",
    "\n",
    "clf_name = 'ECOD'\n",
    "clf = ECOD()\n",
    "clf.fit(X_train)\n",
    "duration = round(time.time() - start_time,2)\n",
    "\n",
    "# get the prediction labels\n",
    "y_train_pred = clf.labels_  \n",
    "y_test_pred = clf.predict(X_test)\n",
    "\n",
    "\n",
    "scores = {\"clf_name\":clf_name, **get_scores(y_test, y_test_pred), \"duration\": duration}\n",
    "combined_scores.append(scores)"
   ]
  },
  {
   "cell_type": "markdown",
   "metadata": {},
   "source": [
    "Local Correlation Integral"
   ]
  },
  {
   "cell_type": "code",
   "execution_count": 20,
   "metadata": {},
   "outputs": [],
   "source": [
    "# #  Local Correlation Integral (LOCI)\n",
    "\n",
    "# from pyod.models.loci import LOCI\n",
    "# start_time = time.time()\n",
    "\n",
    "\n",
    "# clf_name = 'LOCI'\n",
    "# clf = LOCI()\n",
    "# clf.fit(X_train)\n",
    "# duration = round(time.time() - start_time,2)\n",
    "\n",
    "# # get the prediction labels\n",
    "# y_train_pred = clf.labels_  \n",
    "# y_test_pred = clf.predict(X_test)\n",
    "\n",
    "\n",
    "# scores = {\"clf_name\":clf_name, **get_scores(y_test, y_test_pred), \"duration\": duration}\n",
    "# combined_scores.append(scores)"
   ]
  },
  {
   "cell_type": "markdown",
   "metadata": {},
   "source": [
    "LSCP: Locally Selective Combination of Parallel Outlier Ensembles"
   ]
  },
  {
   "cell_type": "code",
   "execution_count": 21,
   "metadata": {},
   "outputs": [],
   "source": [
    "# #  LSCP\n",
    "\n",
    "# from pyod.models.lscp import LSCP\n",
    "# from pyod.models.lof import LOF\n",
    "# start_time = time.time()\n",
    "\n",
    "\n",
    "# clf_name = 'LSCP'\n",
    "# detector_list = [LOF(), LOF()]\n",
    "# clf = LSCP(detector_list)\n",
    "# clf.fit(X_train)\n",
    "# duration = round(time.time() - start_time,2)\n",
    "\n",
    "# # get the prediction labels\n",
    "# y_train_pred = clf.labels_  \n",
    "# y_test_pred = clf.predict(X_test)\n",
    "\n",
    "\n",
    "# scores = {\"clf_name\":clf_name, **get_scores(y_test, y_test_pred), \"duration\": duration}\n",
    "# combined_scores.append(scores)"
   ]
  },
  {
   "cell_type": "markdown",
   "metadata": {},
   "source": [
    "COPOD: Copula-Based Outlier Detection"
   ]
  },
  {
   "cell_type": "code",
   "execution_count": 22,
   "metadata": {},
   "outputs": [],
   "source": [
    "#  COPOD: Copula-Based Outlier Detection\n",
    "\n",
    "from pyod.models.copod import COPOD\n",
    "start_time = time.time()\n",
    "\n",
    "\n",
    "clf_name = 'COPOD'\n",
    "clf = COPOD()\n",
    "clf.fit(X_train)\n",
    "duration = round(time.time() - start_time,2)\n",
    "\n",
    "# get the prediction labels\n",
    "y_train_pred = clf.labels_  \n",
    "y_test_pred = clf.predict(X_test)\n",
    "\n",
    "\n",
    "scores = {\"clf_name\":clf_name, **get_scores(y_test, y_test_pred), \"duration\": duration}\n",
    "combined_scores.append(scores)"
   ]
  },
  {
   "cell_type": "markdown",
   "metadata": {},
   "source": [
    "ABOD: Angle-Based Outlier Detection"
   ]
  },
  {
   "cell_type": "code",
   "execution_count": 23,
   "metadata": {},
   "outputs": [],
   "source": [
    "#  ABOD: Angle-Based Outlier Detection\n",
    "\n",
    "from pyod.models.abod import ABOD\n",
    "start_time = time.time()\n",
    "\n",
    "clf_name = 'ABOD'\n",
    "clf = ABOD()\n",
    "clf.fit(X_train)\n",
    "duration = round(time.time() - start_time,2)\n",
    "\n",
    "# get the prediction labels\n",
    "y_train_pred = clf.labels_  \n",
    "y_test_pred = clf.predict(X_test)\n",
    "\n",
    "\n",
    "scores = {\"clf_name\":clf_name, **get_scores(y_test, y_test_pred), \"duration\": duration}\n",
    "combined_scores.append(scores)"
   ]
  },
  {
   "cell_type": "markdown",
   "metadata": {},
   "source": [
    "QMCD: Quasi-Monte Carlo Discrepancy outlier detection"
   ]
  },
  {
   "cell_type": "code",
   "execution_count": 24,
   "metadata": {},
   "outputs": [],
   "source": [
    "# QMCD: Quasi-Monte Carlo Discrepancy outlier detection\n",
    "\n",
    "from pyod.models.qmcd import QMCD\n",
    "start_time = time.time()\n",
    "\n",
    "clf_name = 'QMCD'\n",
    "clf = QMCD()\n",
    "clf.fit(X_train)\n",
    "duration = round(time.time() - start_time,2)\n",
    "\n",
    "# get the prediction labels\n",
    "y_train_pred = clf.labels_  \n",
    "y_test_pred = clf.predict(X_test)\n",
    "\n",
    "\n",
    "scores = {\"clf_name\":clf_name, **get_scores(y_test, y_test_pred), \"duration\": duration}\n",
    "combined_scores.append(scores)\n"
   ]
  },
  {
   "cell_type": "markdown",
   "metadata": {},
   "source": [
    "Rapid distance-based outlier detection via sampling"
   ]
  },
  {
   "cell_type": "code",
   "execution_count": 25,
   "metadata": {},
   "outputs": [],
   "source": [
    "# MAD - Rapid distance-based outlier detection via sampling\n",
    "\n",
    "from pyod.models.sampling import Sampling\n",
    "start_time = time.time()\n",
    "\n",
    "clf_name = 'Rapid distance-based'\n",
    "clf = Sampling()\n",
    "clf.fit(X_train)\n",
    "duration = round(time.time() - start_time,2)\n",
    "\n",
    "# get the prediction labels\n",
    "y_train_pred = clf.labels_  \n",
    "y_test_pred = clf.predict(X_test)\n",
    "\n",
    "\n",
    "scores = {\"clf_name\":clf_name, **get_scores(y_test, y_test_pred), \"duration\": duration}\n",
    "combined_scores.append(scores)\n",
    "\n"
   ]
  },
  {
   "cell_type": "markdown",
   "metadata": {},
   "source": [
    "## Book Keeping"
   ]
  },
  {
   "cell_type": "code",
   "execution_count": 26,
   "metadata": {},
   "outputs": [],
   "source": [
    "# save the results\n",
    "save_dir = Path('results')\n",
    "save_dir.mkdir(exist_ok=True)\n",
    "save_as = save_dir / f\"2-{Path(work_with).stem}.csv\"\n",
    "\n",
    "scores_df = pd.DataFrame(combined_scores)\n",
    "scores_df.to_csv(save_as, index=False)\n"
   ]
  },
  {
   "cell_type": "code",
   "execution_count": 27,
   "metadata": {},
   "outputs": [
    {
     "data": {
      "text/html": [
       "<div>\n",
       "<style scoped>\n",
       "    .dataframe tbody tr th:only-of-type {\n",
       "        vertical-align: middle;\n",
       "    }\n",
       "\n",
       "    .dataframe tbody tr th {\n",
       "        vertical-align: top;\n",
       "    }\n",
       "\n",
       "    .dataframe thead th {\n",
       "        text-align: right;\n",
       "    }\n",
       "</style>\n",
       "<table border=\"1\" class=\"dataframe\">\n",
       "  <thead>\n",
       "    <tr style=\"text-align: right;\">\n",
       "      <th></th>\n",
       "      <th>clf_name</th>\n",
       "      <th>accuracy</th>\n",
       "      <th>balanced</th>\n",
       "      <th>F1</th>\n",
       "      <th>precision</th>\n",
       "      <th>recall</th>\n",
       "      <th>roc_auc</th>\n",
       "      <th>pr_auc</th>\n",
       "      <th>duration</th>\n",
       "    </tr>\n",
       "  </thead>\n",
       "  <tbody>\n",
       "    <tr>\n",
       "      <th>0</th>\n",
       "      <td>IForest</td>\n",
       "      <td>0.90</td>\n",
       "      <td>0.62</td>\n",
       "      <td>0.0</td>\n",
       "      <td>0.0</td>\n",
       "      <td>0.33</td>\n",
       "      <td>0.62</td>\n",
       "      <td>0.0</td>\n",
       "      <td>3.21</td>\n",
       "    </tr>\n",
       "    <tr>\n",
       "      <th>1</th>\n",
       "      <td>LOF</td>\n",
       "      <td>0.91</td>\n",
       "      <td>0.66</td>\n",
       "      <td>0.0</td>\n",
       "      <td>0.0</td>\n",
       "      <td>0.40</td>\n",
       "      <td>0.66</td>\n",
       "      <td>0.0</td>\n",
       "      <td>31.32</td>\n",
       "    </tr>\n",
       "    <tr>\n",
       "      <th>2</th>\n",
       "      <td>ECOD</td>\n",
       "      <td>0.90</td>\n",
       "      <td>0.57</td>\n",
       "      <td>0.0</td>\n",
       "      <td>0.0</td>\n",
       "      <td>0.24</td>\n",
       "      <td>0.57</td>\n",
       "      <td>0.0</td>\n",
       "      <td>1.66</td>\n",
       "    </tr>\n",
       "    <tr>\n",
       "      <th>3</th>\n",
       "      <td>COPOD</td>\n",
       "      <td>0.90</td>\n",
       "      <td>0.55</td>\n",
       "      <td>0.0</td>\n",
       "      <td>0.0</td>\n",
       "      <td>0.20</td>\n",
       "      <td>0.55</td>\n",
       "      <td>0.0</td>\n",
       "      <td>1.31</td>\n",
       "    </tr>\n",
       "    <tr>\n",
       "      <th>4</th>\n",
       "      <td>ABOD</td>\n",
       "      <td>0.90</td>\n",
       "      <td>0.58</td>\n",
       "      <td>0.0</td>\n",
       "      <td>0.0</td>\n",
       "      <td>0.27</td>\n",
       "      <td>0.58</td>\n",
       "      <td>0.0</td>\n",
       "      <td>48.25</td>\n",
       "    </tr>\n",
       "    <tr>\n",
       "      <th>5</th>\n",
       "      <td>QMCD</td>\n",
       "      <td>0.90</td>\n",
       "      <td>0.52</td>\n",
       "      <td>0.0</td>\n",
       "      <td>0.0</td>\n",
       "      <td>0.14</td>\n",
       "      <td>0.52</td>\n",
       "      <td>0.0</td>\n",
       "      <td>325.68</td>\n",
       "    </tr>\n",
       "    <tr>\n",
       "      <th>6</th>\n",
       "      <td>Rapid distance-based</td>\n",
       "      <td>0.90</td>\n",
       "      <td>0.49</td>\n",
       "      <td>0.0</td>\n",
       "      <td>0.0</td>\n",
       "      <td>0.08</td>\n",
       "      <td>0.49</td>\n",
       "      <td>0.0</td>\n",
       "      <td>0.21</td>\n",
       "    </tr>\n",
       "  </tbody>\n",
       "</table>\n",
       "</div>"
      ],
      "text/plain": [
       "               clf_name  accuracy  balanced   F1  precision  recall  roc_auc  \\\n",
       "0               IForest      0.90      0.62  0.0        0.0    0.33     0.62   \n",
       "1                   LOF      0.91      0.66  0.0        0.0    0.40     0.66   \n",
       "2                  ECOD      0.90      0.57  0.0        0.0    0.24     0.57   \n",
       "3                 COPOD      0.90      0.55  0.0        0.0    0.20     0.55   \n",
       "4                  ABOD      0.90      0.58  0.0        0.0    0.27     0.58   \n",
       "5                  QMCD      0.90      0.52  0.0        0.0    0.14     0.52   \n",
       "6  Rapid distance-based      0.90      0.49  0.0        0.0    0.08     0.49   \n",
       "\n",
       "   pr_auc  duration  \n",
       "0     0.0      3.21  \n",
       "1     0.0     31.32  \n",
       "2     0.0      1.66  \n",
       "3     0.0      1.31  \n",
       "4     0.0     48.25  \n",
       "5     0.0    325.68  \n",
       "6     0.0      0.21  "
      ]
     },
     "metadata": {},
     "output_type": "display_data"
    }
   ],
   "source": [
    "display(scores_df)"
   ]
  },
  {
   "cell_type": "markdown",
   "metadata": {},
   "source": [
    "``` markdown\n",
    "\n",
    "# methods used\n",
    "1. [Isolation Forest](https://cs.nju.edu.cn/zhouzh/zhouzh.files/publication/icdm08b.pdf)\n",
    "2. ...\n",
    "```"
   ]
  }
 ],
 "metadata": {
  "kernelspec": {
   "display_name": "outlierEnv",
   "language": "python",
   "name": "python3"
  },
  "language_info": {
   "codemirror_mode": {
    "name": "ipython",
    "version": 3
   },
   "file_extension": ".py",
   "mimetype": "text/x-python",
   "name": "python",
   "nbconvert_exporter": "python",
   "pygments_lexer": "ipython3",
   "version": "3.10.13"
  }
 },
 "nbformat": 4,
 "nbformat_minor": 2
}
