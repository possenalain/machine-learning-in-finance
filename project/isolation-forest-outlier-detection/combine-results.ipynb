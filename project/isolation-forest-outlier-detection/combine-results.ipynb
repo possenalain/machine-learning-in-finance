{
 "cells": [
  {
   "cell_type": "code",
   "execution_count": 1,
   "metadata": {},
   "outputs": [],
   "source": [
    "import numpy as np\n",
    "import matplotlib.pyplot as plt\n",
    "\n",
    "import pandas as pd\n",
    "from pathlib import Path\n",
    "\n",
    "import sys"
   ]
  },
  {
   "cell_type": "code",
   "execution_count": 2,
   "metadata": {},
   "outputs": [
    {
     "data": {
      "text/plain": [
       "[PosixPath('results/6-campaign.csv'),\n",
       " PosixPath('results/2018-FinData.csv'),\n",
       " PosixPath('results/5-Default.csv'),\n",
       " PosixPath('results/6-5_campaign.csv'),\n",
       " PosixPath('results/2-SFD.csv'),\n",
       " PosixPath('results/1-creditcard.csv'),\n",
       " PosixPath('results/7-fraud.csv'),\n",
       " PosixPath('results/4-CrCFraud.csv')]"
      ]
     },
     "execution_count": 2,
     "metadata": {},
     "output_type": "execute_result"
    }
   ],
   "source": [
    "data_dir = Path(\"results\")\n",
    "\n",
    "files = list(data_dir.glob(\"*.csv\"))\n",
    "files"
   ]
  },
  {
   "cell_type": "code",
   "execution_count": 3,
   "metadata": {},
   "outputs": [],
   "source": [
    "# read all files \n",
    "\n",
    "dfs = [{f\"{Path(f).stem}\" : pd.read_csv(f) for f in files }] \n",
    "\n",
    "for d in dfs:\n",
    "    for k, v in d.items():\n",
    "        v[\"dset\"] = k"
   ]
  },
  {
   "cell_type": "code",
   "execution_count": 4,
   "metadata": {},
   "outputs": [],
   "source": [
    "# concat all dataframes\n",
    "\n",
    "df = pd.concat([v for d in dfs for k, v in d.items()], ignore_index=True)"
   ]
  },
  {
   "cell_type": "code",
   "execution_count": 5,
   "metadata": {},
   "outputs": [
    {
     "name": "stdout",
     "output_type": "stream",
     "text": [
      "<class 'pandas.core.frame.DataFrame'>\n",
      "RangeIndex: 56 entries, 0 to 55\n",
      "Data columns (total 10 columns):\n",
      " #   Column     Non-Null Count  Dtype  \n",
      "---  ------     --------------  -----  \n",
      " 0   clf_name   56 non-null     object \n",
      " 1   accuracy   56 non-null     float64\n",
      " 2   balanced   56 non-null     float64\n",
      " 3   F1         56 non-null     float64\n",
      " 4   precision  56 non-null     float64\n",
      " 5   recall     56 non-null     float64\n",
      " 6   roc_auc    56 non-null     float64\n",
      " 7   pr_auc     56 non-null     float64\n",
      " 8   duration   56 non-null     float64\n",
      " 9   dset       56 non-null     object \n",
      "dtypes: float64(8), object(2)\n",
      "memory usage: 4.5+ KB\n"
     ]
    }
   ],
   "source": [
    "df.info()"
   ]
  },
  {
   "cell_type": "code",
   "execution_count": 6,
   "metadata": {},
   "outputs": [],
   "source": [
    "# save to csv\n",
    "df.to_csv(\"reporting/All-Results-Combined.csv\", index=False)"
   ]
  },
  {
   "cell_type": "code",
   "execution_count": 7,
   "metadata": {},
   "outputs": [],
   "source": [
    "# create pivot tables\n",
    "cols = df.columns\n",
    "cols = cols.drop([\"dset\", \"clf_name\"])\n",
    "\n",
    "for c in cols:\n",
    "    df.pivot_table(index=\"dset\", columns=\"clf_name\", values=c).to_csv(f\"reporting/All-{c}.csv\")"
   ]
  },
  {
   "cell_type": "code",
   "execution_count": 8,
   "metadata": {},
   "outputs": [],
   "source": [
    "\n",
    "\n",
    "# # pivot table for duration\n",
    "# df_pivot = df.pivot_table(index=[\"dset\"], columns=\"clf_name\", values=\"duration\")\n",
    "# df_pivot.to_csv(\"reporting/All-Combined-Duration.csv\")"
   ]
  },
  {
   "cell_type": "code",
   "execution_count": 9,
   "metadata": {},
   "outputs": [],
   "source": [
    "# # pivot table for accuracy\n",
    "# df_pivot = df.pivot_table(index=[\"dset\"], columns=\"clf_name\", values=\"accuracy\")\n",
    "# df_pivot.to_csv(\"reporting/All-Combined-Accuracy.csv\")"
   ]
  },
  {
   "cell_type": "code",
   "execution_count": null,
   "metadata": {},
   "outputs": [],
   "source": []
  }
 ],
 "metadata": {
  "kernelspec": {
   "display_name": "pyodEnv",
   "language": "python",
   "name": "python3"
  },
  "language_info": {
   "codemirror_mode": {
    "name": "ipython",
    "version": 3
   },
   "file_extension": ".py",
   "mimetype": "text/x-python",
   "name": "python",
   "nbconvert_exporter": "python",
   "pygments_lexer": "ipython3",
   "version": "3.10.13"
  }
 },
 "nbformat": 4,
 "nbformat_minor": 2
}
